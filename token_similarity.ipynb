{
 "cells": [
  {
   "cell_type": "code",
   "execution_count": 1,
   "id": "0590c41d",
   "metadata": {},
   "outputs": [],
   "source": [
    "import torch\n",
    "import torch.nn as nn\n",
    "from transformers import BertModel, BertTokenizer, BertConfig\n",
    "import numpy as np\n",
    "import matplotlib.pyplot as plt\n",
    "import pandas as pd"
   ]
  },
  {
   "cell_type": "code",
   "execution_count": 2,
   "id": "900cd298",
   "metadata": {},
   "outputs": [
    {
     "name": "stderr",
     "output_type": "stream",
     "text": [
      "Some weights of the model checkpoint at /home/newdisk/wkh/GAN/transformers-master/examples/pytorch/text-classification/PLM/bert_base/ were not used when initializing BertModel: ['cls.predictions.bias', 'cls.predictions.transform.LayerNorm.bias', 'cls.predictions.transform.dense.bias', 'cls.seq_relationship.bias', 'cls.seq_relationship.weight', 'cls.predictions.transform.dense.weight', 'cls.predictions.decoder.weight', 'cls.predictions.transform.LayerNorm.weight']\n",
      "- This IS expected if you are initializing BertModel from the checkpoint of a model trained on another task or with another architecture (e.g. initializing a BertForSequenceClassification model from a BertForPreTraining model).\n",
      "- This IS NOT expected if you are initializing BertModel from the checkpoint of a model that you expect to be exactly identical (initializing a BertForSequenceClassification model from a BertForSequenceClassification model).\n",
      "Some weights of the model checkpoint at /home/newdisk/wkh/GAN/transformers-master/examples/pytorch/text-classification/checkpoint/rte_dev_best/lr_5/checkpoint-250/ were not used when initializing BertModel: ['classifier.weight', 'classifier.bias']\n",
      "- This IS expected if you are initializing BertModel from the checkpoint of a model trained on another task or with another architecture (e.g. initializing a BertForSequenceClassification model from a BertForPreTraining model).\n",
      "- This IS NOT expected if you are initializing BertModel from the checkpoint of a model that you expect to be exactly identical (initializing a BertForSequenceClassification model from a BertForSequenceClassification model).\n",
      "Some weights of the model checkpoint at /home/newdisk/wkh/GAN/transformers-master/examples/pytorch/text-classification/CL/random/rte/all-layer-32-5/1-dev-0.7-0.001-lr_5-seed42/ were not used when initializing BertModel: ['classifier.weight', 'classifier.bias']\n",
      "- This IS expected if you are initializing BertModel from the checkpoint of a model trained on another task or with another architecture (e.g. initializing a BertForSequenceClassification model from a BertForPreTraining model).\n",
      "- This IS NOT expected if you are initializing BertModel from the checkpoint of a model that you expect to be exactly identical (initializing a BertForSequenceClassification model from a BertForSequenceClassification model).\n"
     ]
    }
   ],
   "source": [
    "model_raw_path = \"/home/newdisk/wkh/GAN/transformers-master/examples/pytorch/text-classification/PLM/bert_base/\"\n",
    "model_base_path = \"/home/newdisk/wkh/GAN/transformers-master/examples/pytorch/text-classification/checkpoint/rte_dev_best/lr_5/checkpoint-250/\"\n",
    "model_cl_path = \"/home/newdisk/wkh/GAN/transformers-master/examples/pytorch/text-classification/CL/random/rte/all-layer-32-5/1-dev-0.7-0.001-lr_5-seed42/\"\n",
    "model_raw = BertModel.from_pretrained(model_raw_path, output_hidden_states=True).cuda()\n",
    "model_base = BertModel.from_pretrained(model_base_path, output_hidden_states=True).cuda()\n",
    "model_cl = BertModel.from_pretrained(model_cl_path,output_hidden_states=True).cuda()\n",
    "tokenizer = BertTokenizer.from_pretrained(model_cl_path)"
   ]
  },
  {
   "cell_type": "code",
   "execution_count": 3,
   "id": "76f77537",
   "metadata": {},
   "outputs": [],
   "source": [
    "def l2_normal(embedding):\n",
    "    a = torch.matmul(embedding,embedding.T)\n",
    "    return torch.sqrt(a)\n",
    "def token_sim(outputs):\n",
    "    sim = torch.zeros(13)\n",
    "    for layer in range(len(outputs)):\n",
    "        sim_layer = 0\n",
    "        this_layer = outputs[layer]\n",
    "        num_total = 0\n",
    "        for token in range(outputs[0].size(1)-1):\n",
    "            for token_next in range(token+1,outputs[0].size(1)):\n",
    "                num_total += 1\n",
    "                l2_token = l2_normal(this_layer[:,token])\n",
    "                l2_token_next = l2_normal(this_layer[:,token_next])\n",
    "                value = torch.matmul(this_layer[:,token],this_layer[:,token_next].T)\n",
    "                sim_layer += value / (l2_token * l2_token_next)\n",
    "        sim[layer] = sim_layer/num_total\n",
    "    return sim\n",
    "def ave_sim(path,models):\n",
    "    f = open(path,'r',encoding='utf-8')\n",
    "    sim_raw_total = 0.\n",
    "    sim_base_total = 0.\n",
    "    sim_cl_total = 0.\n",
    "    model_raw, model_base, model_cl = models\n",
    "    model_raw.eval()\n",
    "    model_base.eval()\n",
    "    model_cl.eval()\n",
    "    for index, line in enumerate(f):\n",
    "        print(\"process: \",index)\n",
    "        num = index + 1\n",
    "        data = line.rstrip().split('\\t')\n",
    "        sen1 = data[0]\n",
    "        sen2 = data[1]\n",
    "        inputs = tokenizer(sen1,sen2,return_tensors='pt').to(model_raw.device)\n",
    "        with torch.no_grad():\n",
    "            outputs_raw = model_raw(**inputs)\n",
    "            outputs_base = model_base(**inputs)\n",
    "            outputs_cl = model_cl(**inputs)\n",
    "        sim_raw = token_sim(outputs_raw.hidden_states)\n",
    "        sim_base = token_sim(outputs_base.hidden_states)\n",
    "        sim_cl = token_sim(outputs_cl.hidden_states)\n",
    "        sim_raw_total += sim_raw\n",
    "        sim_base_total += sim_base\n",
    "        sim_cl_total += sim_cl\n",
    "    f.close()\n",
    "    return sim_raw_total / num, sim_base_total / num, sim_cl_total / num"
   ]
  },
  {
   "cell_type": "code",
   "execution_count": 4,
   "id": "ce6076dd",
   "metadata": {},
   "outputs": [
    {
     "data": {
      "text/plain": [
       "'\\npath_mrpc = \"/home/newdisk/wkh/GAN/transformers-master/examples/pytorch/text-classification/data/rte/dev_sub.txt\"\\nmodels = [model_raw,model_base,model_cl]\\nsim_raw, sim_base, sim_cl = ave_sim(path_mrpc, models)\\nlayer = torch.arange(13).numpy()\\nsim_raw = sim_raw.cpu().numpy()\\nsim_base = sim_base.cpu().numpy()\\nsim_cl = sim_cl.cpu().numpy()\\nplt.plot(layer,sim_raw,\\'b\\',layer,sim_base,\\'g\\',layer,sim_cl,\\'red\\')\\nplt.legend([\"pretrained_model\",\"finetune_model\",\"cl_model\"])\\nplt.show()\\n'"
      ]
     },
     "execution_count": 4,
     "metadata": {},
     "output_type": "execute_result"
    }
   ],
   "source": [
    "'''\n",
    "path_mrpc = \"/home/newdisk/wkh/GAN/transformers-master/examples/pytorch/text-classification/data/rte/dev_sub.txt\"\n",
    "models = [model_raw,model_base,model_cl]\n",
    "sim_raw, sim_base, sim_cl = ave_sim(path_mrpc, models)\n",
    "layer = torch.arange(13).numpy()\n",
    "sim_raw = sim_raw.cpu().numpy()\n",
    "sim_base = sim_base.cpu().numpy()\n",
    "sim_cl = sim_cl.cpu().numpy()\n",
    "plt.plot(layer,sim_raw,'b',layer,sim_base,'g',layer,sim_cl,'red')\n",
    "plt.legend([\"pretrained_model\",\"finetune_model\",\"cl_model\"])\n",
    "plt.show()\n",
    "'''"
   ]
  },
  {
   "cell_type": "code",
   "execution_count": 5,
   "id": "e26460dd",
   "metadata": {},
   "outputs": [],
   "source": [
    "sen1 = 'The San Diego Padres ace, Jake Peavy, was hurt in an 8-5 loss to the St. Louis Cardinals.'\n",
    "sen2 = 'The San Diego Padres won the game against the St. Louis Cardinals.'\n",
    "inputs = tokenizer(sen1,sen2,return_tensors='pt').to(model_raw.device)\n",
    "with torch.no_grad():\n",
    "    outputs_raw = model_raw(**inputs)\n",
    "    outputs_base = model_base(**inputs)\n",
    "    outputs_cl = model_cl(**inputs)"
   ]
  },
  {
   "cell_type": "code",
   "execution_count": 6,
   "id": "6516422e",
   "metadata": {},
   "outputs": [
    {
     "name": "stdout",
     "output_type": "stream",
     "text": [
      "{'input_ids': tensor([[  101,  1996,  2624,  5277, 21577,  9078,  1010,  5180, 26034, 10736,\n",
      "          1010,  2001,  3480,  1999,  2019,  1022,  1011,  1019,  3279,  2000,\n",
      "          1996,  2358,  1012,  3434,  9310,  1012,   102,  1996,  2624,  5277,\n",
      "         21577,  2180,  1996,  2208,  2114,  1996,  2358,  1012,  3434,  9310,\n",
      "          1012,   102]], device='cuda:0'), 'token_type_ids': tensor([[0, 0, 0, 0, 0, 0, 0, 0, 0, 0, 0, 0, 0, 0, 0, 0, 0, 0, 0, 0, 0, 0, 0, 0,\n",
      "         0, 0, 0, 1, 1, 1, 1, 1, 1, 1, 1, 1, 1, 1, 1, 1, 1, 1]],\n",
      "       device='cuda:0'), 'attention_mask': tensor([[1, 1, 1, 1, 1, 1, 1, 1, 1, 1, 1, 1, 1, 1, 1, 1, 1, 1, 1, 1, 1, 1, 1, 1,\n",
      "         1, 1, 1, 1, 1, 1, 1, 1, 1, 1, 1, 1, 1, 1, 1, 1, 1, 1]],\n",
      "       device='cuda:0')}\n"
     ]
    }
   ],
   "source": [
    "print(inputs)"
   ]
  },
  {
   "cell_type": "code",
   "execution_count": 44,
   "id": "84fb09f5",
   "metadata": {},
   "outputs": [],
   "source": [
    "def cos_sim(embedding1,embedding2):\n",
    "    l2_1 = l2_normal(embedding1)\n",
    "    l2_2 = l2_normal(embedding2)\n",
    "    value = torch.matmul(embedding1,embedding2.T)\n",
    "    return value / (l2_1 * l2_2)\n",
    "def sim_check(outputs,sep_index):\n",
    "    sim_sep = torch.zeros(13)\n",
    "    for layer in range(len(outputs)):\n",
    "        this_layer = outputs[layer]\n",
    "        token_sep = this_layer[:,sep_index[0]]\n",
    "        sub_sim = 0.\n",
    "        num_token = 0\n",
    "        for token in range(1, this_layer.size(1)):\n",
    "            if token in sep_index:\n",
    "                pass\n",
    "            num_token += 1\n",
    "            token_1 = this_layer[:,token]\n",
    "            sub_sim += cos_sim(token_1,token_sep)\n",
    "        sim_sep[layer] = sub_sim/num_token\n",
    "    return sim_sep\n",
    "def sep_sim_check(path, models):\n",
    "    f = open(path,'r',encoding='utf-8')\n",
    "    sim_raw_total = 0.\n",
    "    sim_base_total = 0.\n",
    "    sim_cl_total = 0.\n",
    "    model_raw, model_base, model_cl = models\n",
    "    model_raw.eval()\n",
    "    model_base.eval()\n",
    "    model_cl.eval()\n",
    "    for index, line in enumerate(f):\n",
    "        print(\"process: \",index)\n",
    "        num = index + 1\n",
    "        data = line.rstrip().split('\\t')\n",
    "        sen1 = data[0]\n",
    "        sen2 = data[1]\n",
    "        sep_index = []\n",
    "        inputs = tokenizer(sen1,sen2,return_tensors='pt',max_length=128,truncation=True,padding=True).to(model_raw.device)\n",
    "        for index in range(inputs[\"input_ids\"].size(-1)):\n",
    "            if inputs[\"input_ids\"][0,index] == 102:\n",
    "                sep_index.append(index)\n",
    "        with torch.no_grad():\n",
    "            outputs_raw = model_raw(**inputs)\n",
    "            outputs_base = model_base(**inputs)\n",
    "            outputs_cl = model_cl(**inputs)\n",
    "        sim_sep_raw = sim_check(outputs_raw.hidden_states,sep_index=sep_index)\n",
    "        sim_sep_base = sim_check(outputs_base.hidden_states,sep_index=sep_index)\n",
    "        sim_sep_cl = sim_check(outputs_cl.hidden_states,sep_index=sep_index)\n",
    "        sim_raw_total += sim_sep_raw\n",
    "        sim_base_total += sim_sep_base\n",
    "        sim_cl_total += sim_sep_cl\n",
    "    f.close()\n",
    "    return sim_raw_total / num, sim_base_total / num, sim_cl_total / num"
   ]
  },
  {
   "cell_type": "code",
   "execution_count": 45,
   "id": "7bc8bea7",
   "metadata": {},
   "outputs": [
    {
     "name": "stdout",
     "output_type": "stream",
     "text": [
      "process:  0\n",
      "process:  1\n"
     ]
    },
    {
     "name": "stderr",
     "output_type": "stream",
     "text": [
      "Be aware, overflowing tokens are not returned for the setting you have chosen, i.e. sequence pairs with the 'longest_first' truncation strategy. So the returned list will always be empty even if some tokens have been removed.\n"
     ]
    },
    {
     "name": "stdout",
     "output_type": "stream",
     "text": [
      "process:  2\n"
     ]
    },
    {
     "name": "stderr",
     "output_type": "stream",
     "text": [
      "Be aware, overflowing tokens are not returned for the setting you have chosen, i.e. sequence pairs with the 'longest_first' truncation strategy. So the returned list will always be empty even if some tokens have been removed.\n"
     ]
    },
    {
     "name": "stdout",
     "output_type": "stream",
     "text": [
      "process:  3\n",
      "process:  4\n",
      "process:  5\n",
      "process:  6\n",
      "process:  7\n",
      "process:  8\n",
      "process:  9\n",
      "process:  10\n",
      "process:  11\n",
      "process:  12\n",
      "process:  13\n",
      "process:  14\n",
      "process:  15\n",
      "process:  16\n",
      "process:  17\n",
      "process:  18\n",
      "process:  19\n",
      "process:  20\n"
     ]
    },
    {
     "name": "stderr",
     "output_type": "stream",
     "text": [
      "Be aware, overflowing tokens are not returned for the setting you have chosen, i.e. sequence pairs with the 'longest_first' truncation strategy. So the returned list will always be empty even if some tokens have been removed.\n"
     ]
    },
    {
     "name": "stdout",
     "output_type": "stream",
     "text": [
      "process:  21\n"
     ]
    },
    {
     "name": "stderr",
     "output_type": "stream",
     "text": [
      "Be aware, overflowing tokens are not returned for the setting you have chosen, i.e. sequence pairs with the 'longest_first' truncation strategy. So the returned list will always be empty even if some tokens have been removed.\n"
     ]
    },
    {
     "name": "stdout",
     "output_type": "stream",
     "text": [
      "process:  22\n"
     ]
    },
    {
     "name": "stderr",
     "output_type": "stream",
     "text": [
      "Be aware, overflowing tokens are not returned for the setting you have chosen, i.e. sequence pairs with the 'longest_first' truncation strategy. So the returned list will always be empty even if some tokens have been removed.\n"
     ]
    },
    {
     "name": "stdout",
     "output_type": "stream",
     "text": [
      "process:  23\n"
     ]
    },
    {
     "name": "stderr",
     "output_type": "stream",
     "text": [
      "Be aware, overflowing tokens are not returned for the setting you have chosen, i.e. sequence pairs with the 'longest_first' truncation strategy. So the returned list will always be empty even if some tokens have been removed.\n"
     ]
    },
    {
     "name": "stdout",
     "output_type": "stream",
     "text": [
      "process:  24\n",
      "process:  25\n",
      "process:  26\n",
      "process:  27\n",
      "process:  28\n",
      "process:  29\n"
     ]
    }
   ],
   "source": [
    "path_mrpc = \"/home/newdisk/wkh/GAN/transformers-master/examples/pytorch/text-classification/data/rte/dev_sub.txt\"\n",
    "models = [model_raw,model_base,model_cl]\n",
    "sim_sep_raw, sim_sep_base, sim_sep_cl = sep_sim_check(path_mrpc, models)"
   ]
  },
  {
   "cell_type": "code",
   "execution_count": 46,
   "id": "c7806c82",
   "metadata": {},
   "outputs": [
    {
     "data": {
      "image/png": "[encoded data removed]",
      "text/plain": [
       "<Figure size 432x288 with 1 Axes>"
      ]
     },
     "metadata": {
      "needs_background": "light"
     },
     "output_type": "display_data"
    }
   ],
   "source": [
    "layer = torch.arange(13).numpy()\n",
    "\n",
    "plt.plot(layer,sim_sep_raw,'b',layer,sim_sep_base,'g',layer,sim_sep_cl,'red')\n",
    "plt.legend([\"pretrained_model\",\"finetune_model\",\"cl_model\"])\n",
    "plt.show()"
   ]
  },
  {
   "cell_type": "code",
   "execution_count": null,
   "id": "6b584510",
   "metadata": {},
   "outputs": [],
   "source": [
    "plt.plot(layer,sim_same_raw,'b',layer,sim_same_base,'g',layer,sim_same_cl,'red')\n",
    "plt.legend([\"pretrained_model\",\"finetune_model\",\"cl_model\"])\n",
    "plt.show()"
   ]
  },
  {
   "cell_type": "code",
   "execution_count": 19,
   "id": "2eb95d0a",
   "metadata": {},
   "outputs": [
    {
     "name": "stdout",
     "output_type": "stream",
     "text": [
      "{'input_ids': tensor([[  101,  1996,  2624,  5277, 21577,  9078,  1010,  5180, 26034, 10736,\n",
      "          1010,  2001,  3480,  1999,  2019,  1022,  1011,  1019,  3279,  2000,\n",
      "          1996,  2358,  1012,  3434,  9310,  1012,   102,  1996,  2624,  5277,\n",
      "         21577,  2180,  1996,  2208,  2114,  1996,  2358,  1012,  3434,  9310,\n",
      "          1012,   102]], device='cuda:0'), 'token_type_ids': tensor([[0, 0, 0, 0, 0, 0, 0, 0, 0, 0, 0, 0, 0, 0, 0, 0, 0, 0, 0, 0, 0, 0, 0, 0,\n",
      "         0, 0, 0, 1, 1, 1, 1, 1, 1, 1, 1, 1, 1, 1, 1, 1, 1, 1]],\n",
      "       device='cuda:0'), 'attention_mask': tensor([[1, 1, 1, 1, 1, 1, 1, 1, 1, 1, 1, 1, 1, 1, 1, 1, 1, 1, 1, 1, 1, 1, 1, 1,\n",
      "         1, 1, 1, 1, 1, 1, 1, 1, 1, 1, 1, 1, 1, 1, 1, 1, 1, 1]],\n",
      "       device='cuda:0')}\n"
     ]
    }
   ],
   "source": [
    "print(inputs)"
   ]
  },
  {
   "cell_type": "code",
   "execution_count": 34,
   "id": "1a12a57e",
   "metadata": {},
   "outputs": [
    {
     "name": "stdout",
     "output_type": "stream",
     "text": [
      "tensor(1996, device='cuda:0')\n"
     ]
    }
   ],
   "source": [
    "print(inputs[\"input_ids\"][0,1])"
   ]
  },
  {
   "cell_type": "code",
   "execution_count": 36,
   "id": "566e25c9",
   "metadata": {},
   "outputs": [
    {
     "name": "stdout",
     "output_type": "stream",
     "text": [
      "26\n",
      "41\n"
     ]
    }
   ],
   "source": [
    "for index in range(inputs[\"input_ids\"].size(-1)):\n",
    "    if inputs[\"input_ids\"][0,index] == 102:\n",
    "        print(index)"
   ]
  },
  {
   "cell_type": "code",
   "execution_count": null,
   "id": "181749dd",
   "metadata": {},
   "outputs": [],
   "source": []
  }
 ],
 "metadata": {
  "kernelspec": {
   "display_name": "Python 3",
   "language": "python",
   "name": "python3"
  },
  "language_info": {
   "codemirror_mode": {
    "name": "ipython",
    "version": 3
   },
   "file_extension": ".py",
   "mimetype": "text/x-python",
   "name": "python",
   "nbconvert_exporter": "python",
   "pygments_lexer": "ipython3",
   "version": "3.6.2"
  }
 },
 "nbformat": 4,
 "nbformat_minor": 5
}
